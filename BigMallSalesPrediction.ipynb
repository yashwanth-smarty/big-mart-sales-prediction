{
 "cells": [
  {
   "cell_type": "code",
   "execution_count": 1,
   "id": "c4635c7b-dc09-4d76-a612-794a581cde46",
   "metadata": {},
   "outputs": [],
   "source": [
    "import numpy as np\n",
    "import pandas as pd\n",
    "import seaborn as sns\n",
    "from sklearn import metrics\n",
    "from sklearn.preprocessing import LabelEncoder"
   ]
  },
  {
   "cell_type": "code",
   "execution_count": 2,
   "id": "80fd8f65-3913-4d65-b7f8-b0e9055608cc",
   "metadata": {},
   "outputs": [],
   "source": [
    "from xgboost import XGBRegressor"
   ]
  },
  {
   "cell_type": "code",
   "execution_count": 3,
   "id": "aa8792d2-11c6-4806-88f2-cfaa7479cea8",
   "metadata": {},
   "outputs": [
    {
     "data": {
      "text/html": [
       "<div>\n",
       "<style scoped>\n",
       "    .dataframe tbody tr th:only-of-type {\n",
       "        vertical-align: middle;\n",
       "    }\n",
       "\n",
       "    .dataframe tbody tr th {\n",
       "        vertical-align: top;\n",
       "    }\n",
       "\n",
       "    .dataframe thead th {\n",
       "        text-align: right;\n",
       "    }\n",
       "</style>\n",
       "<table border=\"1\" class=\"dataframe\">\n",
       "  <thead>\n",
       "    <tr style=\"text-align: right;\">\n",
       "      <th></th>\n",
       "      <th>Item_Identifier</th>\n",
       "      <th>Item_Weight</th>\n",
       "      <th>Item_Fat_Content</th>\n",
       "      <th>Item_Visibility</th>\n",
       "      <th>Item_Type</th>\n",
       "      <th>Item_MRP</th>\n",
       "      <th>Outlet_Identifier</th>\n",
       "      <th>Outlet_Establishment_Year</th>\n",
       "      <th>Outlet_Size</th>\n",
       "      <th>Outlet_Location_Type</th>\n",
       "      <th>Outlet_Type</th>\n",
       "    </tr>\n",
       "  </thead>\n",
       "  <tbody>\n",
       "    <tr>\n",
       "      <th>0</th>\n",
       "      <td>FDW58</td>\n",
       "      <td>20.750</td>\n",
       "      <td>Low Fat</td>\n",
       "      <td>0.007565</td>\n",
       "      <td>Snack Foods</td>\n",
       "      <td>107.8622</td>\n",
       "      <td>OUT049</td>\n",
       "      <td>1999</td>\n",
       "      <td>Medium</td>\n",
       "      <td>Tier 1</td>\n",
       "      <td>Supermarket Type1</td>\n",
       "    </tr>\n",
       "    <tr>\n",
       "      <th>1</th>\n",
       "      <td>FDW14</td>\n",
       "      <td>8.300</td>\n",
       "      <td>reg</td>\n",
       "      <td>0.038428</td>\n",
       "      <td>Dairy</td>\n",
       "      <td>87.3198</td>\n",
       "      <td>OUT017</td>\n",
       "      <td>2007</td>\n",
       "      <td>NaN</td>\n",
       "      <td>Tier 2</td>\n",
       "      <td>Supermarket Type1</td>\n",
       "    </tr>\n",
       "    <tr>\n",
       "      <th>2</th>\n",
       "      <td>NCN55</td>\n",
       "      <td>14.600</td>\n",
       "      <td>Low Fat</td>\n",
       "      <td>0.099575</td>\n",
       "      <td>Others</td>\n",
       "      <td>241.7538</td>\n",
       "      <td>OUT010</td>\n",
       "      <td>1998</td>\n",
       "      <td>NaN</td>\n",
       "      <td>Tier 3</td>\n",
       "      <td>Grocery Store</td>\n",
       "    </tr>\n",
       "    <tr>\n",
       "      <th>3</th>\n",
       "      <td>FDQ58</td>\n",
       "      <td>7.315</td>\n",
       "      <td>Low Fat</td>\n",
       "      <td>0.015388</td>\n",
       "      <td>Snack Foods</td>\n",
       "      <td>155.0340</td>\n",
       "      <td>OUT017</td>\n",
       "      <td>2007</td>\n",
       "      <td>NaN</td>\n",
       "      <td>Tier 2</td>\n",
       "      <td>Supermarket Type1</td>\n",
       "    </tr>\n",
       "    <tr>\n",
       "      <th>4</th>\n",
       "      <td>FDY38</td>\n",
       "      <td>NaN</td>\n",
       "      <td>Regular</td>\n",
       "      <td>0.118599</td>\n",
       "      <td>Dairy</td>\n",
       "      <td>234.2300</td>\n",
       "      <td>OUT027</td>\n",
       "      <td>1985</td>\n",
       "      <td>Medium</td>\n",
       "      <td>Tier 3</td>\n",
       "      <td>Supermarket Type3</td>\n",
       "    </tr>\n",
       "    <tr>\n",
       "      <th>...</th>\n",
       "      <td>...</td>\n",
       "      <td>...</td>\n",
       "      <td>...</td>\n",
       "      <td>...</td>\n",
       "      <td>...</td>\n",
       "      <td>...</td>\n",
       "      <td>...</td>\n",
       "      <td>...</td>\n",
       "      <td>...</td>\n",
       "      <td>...</td>\n",
       "      <td>...</td>\n",
       "    </tr>\n",
       "    <tr>\n",
       "      <th>5676</th>\n",
       "      <td>FDB58</td>\n",
       "      <td>10.500</td>\n",
       "      <td>Regular</td>\n",
       "      <td>0.013496</td>\n",
       "      <td>Snack Foods</td>\n",
       "      <td>141.3154</td>\n",
       "      <td>OUT046</td>\n",
       "      <td>1997</td>\n",
       "      <td>Small</td>\n",
       "      <td>Tier 1</td>\n",
       "      <td>Supermarket Type1</td>\n",
       "    </tr>\n",
       "    <tr>\n",
       "      <th>5677</th>\n",
       "      <td>FDD47</td>\n",
       "      <td>7.600</td>\n",
       "      <td>Regular</td>\n",
       "      <td>0.142991</td>\n",
       "      <td>Starchy Foods</td>\n",
       "      <td>169.1448</td>\n",
       "      <td>OUT018</td>\n",
       "      <td>2009</td>\n",
       "      <td>Medium</td>\n",
       "      <td>Tier 3</td>\n",
       "      <td>Supermarket Type2</td>\n",
       "    </tr>\n",
       "    <tr>\n",
       "      <th>5678</th>\n",
       "      <td>NCO17</td>\n",
       "      <td>10.000</td>\n",
       "      <td>Low Fat</td>\n",
       "      <td>0.073529</td>\n",
       "      <td>Health and Hygiene</td>\n",
       "      <td>118.7440</td>\n",
       "      <td>OUT045</td>\n",
       "      <td>2002</td>\n",
       "      <td>NaN</td>\n",
       "      <td>Tier 2</td>\n",
       "      <td>Supermarket Type1</td>\n",
       "    </tr>\n",
       "    <tr>\n",
       "      <th>5679</th>\n",
       "      <td>FDJ26</td>\n",
       "      <td>15.300</td>\n",
       "      <td>Regular</td>\n",
       "      <td>0.000000</td>\n",
       "      <td>Canned</td>\n",
       "      <td>214.6218</td>\n",
       "      <td>OUT017</td>\n",
       "      <td>2007</td>\n",
       "      <td>NaN</td>\n",
       "      <td>Tier 2</td>\n",
       "      <td>Supermarket Type1</td>\n",
       "    </tr>\n",
       "    <tr>\n",
       "      <th>5680</th>\n",
       "      <td>FDU37</td>\n",
       "      <td>9.500</td>\n",
       "      <td>Regular</td>\n",
       "      <td>0.104720</td>\n",
       "      <td>Canned</td>\n",
       "      <td>79.7960</td>\n",
       "      <td>OUT045</td>\n",
       "      <td>2002</td>\n",
       "      <td>NaN</td>\n",
       "      <td>Tier 2</td>\n",
       "      <td>Supermarket Type1</td>\n",
       "    </tr>\n",
       "  </tbody>\n",
       "</table>\n",
       "<p>5681 rows × 11 columns</p>\n",
       "</div>"
      ],
      "text/plain": [
       "     Item_Identifier  Item_Weight Item_Fat_Content  Item_Visibility  \\\n",
       "0              FDW58       20.750          Low Fat         0.007565   \n",
       "1              FDW14        8.300              reg         0.038428   \n",
       "2              NCN55       14.600          Low Fat         0.099575   \n",
       "3              FDQ58        7.315          Low Fat         0.015388   \n",
       "4              FDY38          NaN          Regular         0.118599   \n",
       "...              ...          ...              ...              ...   \n",
       "5676           FDB58       10.500          Regular         0.013496   \n",
       "5677           FDD47        7.600          Regular         0.142991   \n",
       "5678           NCO17       10.000          Low Fat         0.073529   \n",
       "5679           FDJ26       15.300          Regular         0.000000   \n",
       "5680           FDU37        9.500          Regular         0.104720   \n",
       "\n",
       "               Item_Type  Item_MRP Outlet_Identifier  \\\n",
       "0            Snack Foods  107.8622            OUT049   \n",
       "1                  Dairy   87.3198            OUT017   \n",
       "2                 Others  241.7538            OUT010   \n",
       "3            Snack Foods  155.0340            OUT017   \n",
       "4                  Dairy  234.2300            OUT027   \n",
       "...                  ...       ...               ...   \n",
       "5676         Snack Foods  141.3154            OUT046   \n",
       "5677       Starchy Foods  169.1448            OUT018   \n",
       "5678  Health and Hygiene  118.7440            OUT045   \n",
       "5679              Canned  214.6218            OUT017   \n",
       "5680              Canned   79.7960            OUT045   \n",
       "\n",
       "      Outlet_Establishment_Year Outlet_Size Outlet_Location_Type  \\\n",
       "0                          1999      Medium               Tier 1   \n",
       "1                          2007         NaN               Tier 2   \n",
       "2                          1998         NaN               Tier 3   \n",
       "3                          2007         NaN               Tier 2   \n",
       "4                          1985      Medium               Tier 3   \n",
       "...                         ...         ...                  ...   \n",
       "5676                       1997       Small               Tier 1   \n",
       "5677                       2009      Medium               Tier 3   \n",
       "5678                       2002         NaN               Tier 2   \n",
       "5679                       2007         NaN               Tier 2   \n",
       "5680                       2002         NaN               Tier 2   \n",
       "\n",
       "            Outlet_Type  \n",
       "0     Supermarket Type1  \n",
       "1     Supermarket Type1  \n",
       "2         Grocery Store  \n",
       "3     Supermarket Type1  \n",
       "4     Supermarket Type3  \n",
       "...                 ...  \n",
       "5676  Supermarket Type1  \n",
       "5677  Supermarket Type2  \n",
       "5678  Supermarket Type1  \n",
       "5679  Supermarket Type1  \n",
       "5680  Supermarket Type1  \n",
       "\n",
       "[5681 rows x 11 columns]"
      ]
     },
     "execution_count": 3,
     "metadata": {},
     "output_type": "execute_result"
    }
   ],
   "source": [
    "data=pd.read_csv('BigMartSalesData.csv')\n",
    "data"
   ]
  },
  {
   "cell_type": "code",
   "execution_count": 4,
   "id": "fb9a4285-3e4a-4404-b0cd-23b38b8a9b8b",
   "metadata": {},
   "outputs": [
    {
     "data": {
      "text/plain": [
       "(5681, 11)"
      ]
     },
     "execution_count": 4,
     "metadata": {},
     "output_type": "execute_result"
    }
   ],
   "source": [
    "data.shape"
   ]
  },
  {
   "cell_type": "code",
   "execution_count": 5,
   "id": "a123a501-9e0b-4303-b484-43783778bb27",
   "metadata": {},
   "outputs": [
    {
     "name": "stdout",
     "output_type": "stream",
     "text": [
      "<class 'pandas.core.frame.DataFrame'>\n",
      "RangeIndex: 5681 entries, 0 to 5680\n",
      "Data columns (total 11 columns):\n",
      " #   Column                     Non-Null Count  Dtype  \n",
      "---  ------                     --------------  -----  \n",
      " 0   Item_Identifier            5681 non-null   object \n",
      " 1   Item_Weight                4705 non-null   float64\n",
      " 2   Item_Fat_Content           5681 non-null   object \n",
      " 3   Item_Visibility            5681 non-null   float64\n",
      " 4   Item_Type                  5681 non-null   object \n",
      " 5   Item_MRP                   5681 non-null   float64\n",
      " 6   Outlet_Identifier          5681 non-null   object \n",
      " 7   Outlet_Establishment_Year  5681 non-null   int64  \n",
      " 8   Outlet_Size                4075 non-null   object \n",
      " 9   Outlet_Location_Type       5681 non-null   object \n",
      " 10  Outlet_Type                5681 non-null   object \n",
      "dtypes: float64(3), int64(1), object(7)\n",
      "memory usage: 488.3+ KB\n"
     ]
    }
   ],
   "source": [
    "data.info()"
   ]
  },
  {
   "cell_type": "code",
   "execution_count": 6,
   "id": "fa630cde-61af-4c4a-a8c6-4d72c242fa98",
   "metadata": {},
   "outputs": [
    {
     "data": {
      "text/plain": [
       "Item_Weight\n",
       "False    4705\n",
       "True      976\n",
       "Name: count, dtype: int64"
      ]
     },
     "execution_count": 6,
     "metadata": {},
     "output_type": "execute_result"
    }
   ],
   "source": [
    "data['Item_Weight'].isnull().value_counts()"
   ]
  },
  {
   "cell_type": "code",
   "execution_count": 7,
   "id": "944a2a21-aad6-443b-837a-79a2993bea60",
   "metadata": {},
   "outputs": [
    {
     "data": {
      "text/plain": [
       "Outlet_Size\n",
       "False    4075\n",
       "True     1606\n",
       "Name: count, dtype: int64"
      ]
     },
     "execution_count": 7,
     "metadata": {},
     "output_type": "execute_result"
    }
   ],
   "source": [
    "data['Outlet_Size'].isnull().value_counts()"
   ]
  },
  {
   "cell_type": "code",
   "execution_count": 8,
   "id": "01246e09-d5a0-4e88-90c9-aafc9fcda5b9",
   "metadata": {},
   "outputs": [],
   "source": [
    "data['Item_Weight'].fillna(data['Item_Weight'].mean(),inplace=True)"
   ]
  },
  {
   "cell_type": "code",
   "execution_count": 9,
   "id": "2f958a76-9808-460e-b420-476febb1bac7",
   "metadata": {
    "scrolled": true
   },
   "outputs": [
    {
     "data": {
      "text/html": [
       "<div>\n",
       "<style scoped>\n",
       "    .dataframe tbody tr th:only-of-type {\n",
       "        vertical-align: middle;\n",
       "    }\n",
       "\n",
       "    .dataframe tbody tr th {\n",
       "        vertical-align: top;\n",
       "    }\n",
       "\n",
       "    .dataframe thead th {\n",
       "        text-align: right;\n",
       "    }\n",
       "</style>\n",
       "<table border=\"1\" class=\"dataframe\">\n",
       "  <thead>\n",
       "    <tr style=\"text-align: right;\">\n",
       "      <th></th>\n",
       "      <th>Item_Identifier</th>\n",
       "      <th>Item_Weight</th>\n",
       "      <th>Item_Fat_Content</th>\n",
       "      <th>Item_Visibility</th>\n",
       "      <th>Item_Type</th>\n",
       "      <th>Item_MRP</th>\n",
       "      <th>Outlet_Identifier</th>\n",
       "      <th>Outlet_Establishment_Year</th>\n",
       "      <th>Outlet_Size</th>\n",
       "      <th>Outlet_Location_Type</th>\n",
       "      <th>Outlet_Type</th>\n",
       "    </tr>\n",
       "  </thead>\n",
       "  <tbody>\n",
       "    <tr>\n",
       "      <th>0</th>\n",
       "      <td>FDW58</td>\n",
       "      <td>20.750000</td>\n",
       "      <td>Low Fat</td>\n",
       "      <td>0.007565</td>\n",
       "      <td>Snack Foods</td>\n",
       "      <td>107.8622</td>\n",
       "      <td>OUT049</td>\n",
       "      <td>1999</td>\n",
       "      <td>Medium</td>\n",
       "      <td>Tier 1</td>\n",
       "      <td>Supermarket Type1</td>\n",
       "    </tr>\n",
       "    <tr>\n",
       "      <th>1</th>\n",
       "      <td>FDW14</td>\n",
       "      <td>8.300000</td>\n",
       "      <td>reg</td>\n",
       "      <td>0.038428</td>\n",
       "      <td>Dairy</td>\n",
       "      <td>87.3198</td>\n",
       "      <td>OUT017</td>\n",
       "      <td>2007</td>\n",
       "      <td>NaN</td>\n",
       "      <td>Tier 2</td>\n",
       "      <td>Supermarket Type1</td>\n",
       "    </tr>\n",
       "    <tr>\n",
       "      <th>2</th>\n",
       "      <td>NCN55</td>\n",
       "      <td>14.600000</td>\n",
       "      <td>Low Fat</td>\n",
       "      <td>0.099575</td>\n",
       "      <td>Others</td>\n",
       "      <td>241.7538</td>\n",
       "      <td>OUT010</td>\n",
       "      <td>1998</td>\n",
       "      <td>NaN</td>\n",
       "      <td>Tier 3</td>\n",
       "      <td>Grocery Store</td>\n",
       "    </tr>\n",
       "    <tr>\n",
       "      <th>3</th>\n",
       "      <td>FDQ58</td>\n",
       "      <td>7.315000</td>\n",
       "      <td>Low Fat</td>\n",
       "      <td>0.015388</td>\n",
       "      <td>Snack Foods</td>\n",
       "      <td>155.0340</td>\n",
       "      <td>OUT017</td>\n",
       "      <td>2007</td>\n",
       "      <td>NaN</td>\n",
       "      <td>Tier 2</td>\n",
       "      <td>Supermarket Type1</td>\n",
       "    </tr>\n",
       "    <tr>\n",
       "      <th>4</th>\n",
       "      <td>FDY38</td>\n",
       "      <td>12.695633</td>\n",
       "      <td>Regular</td>\n",
       "      <td>0.118599</td>\n",
       "      <td>Dairy</td>\n",
       "      <td>234.2300</td>\n",
       "      <td>OUT027</td>\n",
       "      <td>1985</td>\n",
       "      <td>Medium</td>\n",
       "      <td>Tier 3</td>\n",
       "      <td>Supermarket Type3</td>\n",
       "    </tr>\n",
       "    <tr>\n",
       "      <th>...</th>\n",
       "      <td>...</td>\n",
       "      <td>...</td>\n",
       "      <td>...</td>\n",
       "      <td>...</td>\n",
       "      <td>...</td>\n",
       "      <td>...</td>\n",
       "      <td>...</td>\n",
       "      <td>...</td>\n",
       "      <td>...</td>\n",
       "      <td>...</td>\n",
       "      <td>...</td>\n",
       "    </tr>\n",
       "    <tr>\n",
       "      <th>5676</th>\n",
       "      <td>FDB58</td>\n",
       "      <td>10.500000</td>\n",
       "      <td>Regular</td>\n",
       "      <td>0.013496</td>\n",
       "      <td>Snack Foods</td>\n",
       "      <td>141.3154</td>\n",
       "      <td>OUT046</td>\n",
       "      <td>1997</td>\n",
       "      <td>Small</td>\n",
       "      <td>Tier 1</td>\n",
       "      <td>Supermarket Type1</td>\n",
       "    </tr>\n",
       "    <tr>\n",
       "      <th>5677</th>\n",
       "      <td>FDD47</td>\n",
       "      <td>7.600000</td>\n",
       "      <td>Regular</td>\n",
       "      <td>0.142991</td>\n",
       "      <td>Starchy Foods</td>\n",
       "      <td>169.1448</td>\n",
       "      <td>OUT018</td>\n",
       "      <td>2009</td>\n",
       "      <td>Medium</td>\n",
       "      <td>Tier 3</td>\n",
       "      <td>Supermarket Type2</td>\n",
       "    </tr>\n",
       "    <tr>\n",
       "      <th>5678</th>\n",
       "      <td>NCO17</td>\n",
       "      <td>10.000000</td>\n",
       "      <td>Low Fat</td>\n",
       "      <td>0.073529</td>\n",
       "      <td>Health and Hygiene</td>\n",
       "      <td>118.7440</td>\n",
       "      <td>OUT045</td>\n",
       "      <td>2002</td>\n",
       "      <td>NaN</td>\n",
       "      <td>Tier 2</td>\n",
       "      <td>Supermarket Type1</td>\n",
       "    </tr>\n",
       "    <tr>\n",
       "      <th>5679</th>\n",
       "      <td>FDJ26</td>\n",
       "      <td>15.300000</td>\n",
       "      <td>Regular</td>\n",
       "      <td>0.000000</td>\n",
       "      <td>Canned</td>\n",
       "      <td>214.6218</td>\n",
       "      <td>OUT017</td>\n",
       "      <td>2007</td>\n",
       "      <td>NaN</td>\n",
       "      <td>Tier 2</td>\n",
       "      <td>Supermarket Type1</td>\n",
       "    </tr>\n",
       "    <tr>\n",
       "      <th>5680</th>\n",
       "      <td>FDU37</td>\n",
       "      <td>9.500000</td>\n",
       "      <td>Regular</td>\n",
       "      <td>0.104720</td>\n",
       "      <td>Canned</td>\n",
       "      <td>79.7960</td>\n",
       "      <td>OUT045</td>\n",
       "      <td>2002</td>\n",
       "      <td>NaN</td>\n",
       "      <td>Tier 2</td>\n",
       "      <td>Supermarket Type1</td>\n",
       "    </tr>\n",
       "  </tbody>\n",
       "</table>\n",
       "<p>5681 rows × 11 columns</p>\n",
       "</div>"
      ],
      "text/plain": [
       "     Item_Identifier  Item_Weight Item_Fat_Content  Item_Visibility  \\\n",
       "0              FDW58    20.750000          Low Fat         0.007565   \n",
       "1              FDW14     8.300000              reg         0.038428   \n",
       "2              NCN55    14.600000          Low Fat         0.099575   \n",
       "3              FDQ58     7.315000          Low Fat         0.015388   \n",
       "4              FDY38    12.695633          Regular         0.118599   \n",
       "...              ...          ...              ...              ...   \n",
       "5676           FDB58    10.500000          Regular         0.013496   \n",
       "5677           FDD47     7.600000          Regular         0.142991   \n",
       "5678           NCO17    10.000000          Low Fat         0.073529   \n",
       "5679           FDJ26    15.300000          Regular         0.000000   \n",
       "5680           FDU37     9.500000          Regular         0.104720   \n",
       "\n",
       "               Item_Type  Item_MRP Outlet_Identifier  \\\n",
       "0            Snack Foods  107.8622            OUT049   \n",
       "1                  Dairy   87.3198            OUT017   \n",
       "2                 Others  241.7538            OUT010   \n",
       "3            Snack Foods  155.0340            OUT017   \n",
       "4                  Dairy  234.2300            OUT027   \n",
       "...                  ...       ...               ...   \n",
       "5676         Snack Foods  141.3154            OUT046   \n",
       "5677       Starchy Foods  169.1448            OUT018   \n",
       "5678  Health and Hygiene  118.7440            OUT045   \n",
       "5679              Canned  214.6218            OUT017   \n",
       "5680              Canned   79.7960            OUT045   \n",
       "\n",
       "      Outlet_Establishment_Year Outlet_Size Outlet_Location_Type  \\\n",
       "0                          1999      Medium               Tier 1   \n",
       "1                          2007         NaN               Tier 2   \n",
       "2                          1998         NaN               Tier 3   \n",
       "3                          2007         NaN               Tier 2   \n",
       "4                          1985      Medium               Tier 3   \n",
       "...                         ...         ...                  ...   \n",
       "5676                       1997       Small               Tier 1   \n",
       "5677                       2009      Medium               Tier 3   \n",
       "5678                       2002         NaN               Tier 2   \n",
       "5679                       2007         NaN               Tier 2   \n",
       "5680                       2002         NaN               Tier 2   \n",
       "\n",
       "            Outlet_Type  \n",
       "0     Supermarket Type1  \n",
       "1     Supermarket Type1  \n",
       "2         Grocery Store  \n",
       "3     Supermarket Type1  \n",
       "4     Supermarket Type3  \n",
       "...                 ...  \n",
       "5676  Supermarket Type1  \n",
       "5677  Supermarket Type2  \n",
       "5678  Supermarket Type1  \n",
       "5679  Supermarket Type1  \n",
       "5680  Supermarket Type1  \n",
       "\n",
       "[5681 rows x 11 columns]"
      ]
     },
     "execution_count": 9,
     "metadata": {},
     "output_type": "execute_result"
    }
   ],
   "source": [
    "data"
   ]
  },
  {
   "cell_type": "code",
   "execution_count": 10,
   "id": "2fea5b78-bd89-451a-abe4-1d7d041cdd29",
   "metadata": {},
   "outputs": [
    {
     "data": {
      "text/plain": [
       "0    Medium\n",
       "Name: Outlet_Size, dtype: object"
      ]
     },
     "execution_count": 10,
     "metadata": {},
     "output_type": "execute_result"
    }
   ],
   "source": [
    "data['Outlet_Size'].mode()"
   ]
  },
  {
   "cell_type": "code",
   "execution_count": 11,
   "id": "0e8352f6-cd67-4894-a9cd-574b33feac0a",
   "metadata": {},
   "outputs": [
    {
     "data": {
      "text/html": [
       "<div>\n",
       "<style scoped>\n",
       "    .dataframe tbody tr th:only-of-type {\n",
       "        vertical-align: middle;\n",
       "    }\n",
       "\n",
       "    .dataframe tbody tr th {\n",
       "        vertical-align: top;\n",
       "    }\n",
       "\n",
       "    .dataframe thead th {\n",
       "        text-align: right;\n",
       "    }\n",
       "</style>\n",
       "<table border=\"1\" class=\"dataframe\">\n",
       "  <thead>\n",
       "    <tr style=\"text-align: right;\">\n",
       "      <th>Outlet_Type</th>\n",
       "      <th>Grocery Store</th>\n",
       "      <th>Supermarket Type1</th>\n",
       "      <th>Supermarket Type2</th>\n",
       "      <th>Supermarket Type3</th>\n",
       "    </tr>\n",
       "  </thead>\n",
       "  <tbody>\n",
       "    <tr>\n",
       "      <th>Outlet_Size</th>\n",
       "      <td>Small</td>\n",
       "      <td>Small</td>\n",
       "      <td>Medium</td>\n",
       "      <td>Medium</td>\n",
       "    </tr>\n",
       "  </tbody>\n",
       "</table>\n",
       "</div>"
      ],
      "text/plain": [
       "Outlet_Type Grocery Store Supermarket Type1 Supermarket Type2  \\\n",
       "Outlet_Size         Small             Small            Medium   \n",
       "\n",
       "Outlet_Type Supermarket Type3  \n",
       "Outlet_Size            Medium  "
      ]
     },
     "execution_count": 11,
     "metadata": {},
     "output_type": "execute_result"
    }
   ],
   "source": [
    "moutlet=data.pivot_table(values='Outlet_Size', columns='Outlet_Type',aggfunc=(lambda x: x.mode()[0]))\n",
    "moutlet"
   ]
  },
  {
   "cell_type": "code",
   "execution_count": 12,
   "id": "da98d5c8-25d7-4899-82b9-df68df617123",
   "metadata": {},
   "outputs": [],
   "source": [
    "missing=data['Outlet_Size'].isnull()"
   ]
  },
  {
   "cell_type": "code",
   "execution_count": 13,
   "id": "e4b58881-3a64-41df-8e7e-937ffa5792ec",
   "metadata": {},
   "outputs": [],
   "source": [
    "data.loc[missing,'Outlet_Size']=data.loc[missing,'Outlet_Type'].apply(lambda x: moutlet[x])"
   ]
  },
  {
   "cell_type": "code",
   "execution_count": 14,
   "id": "f2b28c8c-553d-4e4a-8a78-8e912d8473ba",
   "metadata": {},
   "outputs": [
    {
     "data": {
      "text/plain": [
       "Outlet_Size\n",
       "False    5681\n",
       "Name: count, dtype: int64"
      ]
     },
     "execution_count": 14,
     "metadata": {},
     "output_type": "execute_result"
    }
   ],
   "source": [
    "data['Outlet_Size'].isnull().value_counts()"
   ]
  },
  {
   "cell_type": "code",
   "execution_count": 15,
   "id": "2fd23c05-5da2-472e-ab88-dffb93485396",
   "metadata": {},
   "outputs": [],
   "source": [
    "import matplotlib.pyplot as plt"
   ]
  },
  {
   "cell_type": "code",
   "execution_count": 16,
   "id": "74b66882-4c84-4b51-9c5a-98cee74e6f0a",
   "metadata": {
    "scrolled": true
   },
   "outputs": [
    {
     "data": {
      "text/html": [
       "<div>\n",
       "<style scoped>\n",
       "    .dataframe tbody tr th:only-of-type {\n",
       "        vertical-align: middle;\n",
       "    }\n",
       "\n",
       "    .dataframe tbody tr th {\n",
       "        vertical-align: top;\n",
       "    }\n",
       "\n",
       "    .dataframe thead th {\n",
       "        text-align: right;\n",
       "    }\n",
       "</style>\n",
       "<table border=\"1\" class=\"dataframe\">\n",
       "  <thead>\n",
       "    <tr style=\"text-align: right;\">\n",
       "      <th></th>\n",
       "      <th>Item_Identifier</th>\n",
       "      <th>Item_Weight</th>\n",
       "      <th>Item_Fat_Content</th>\n",
       "      <th>Item_Visibility</th>\n",
       "      <th>Item_Type</th>\n",
       "      <th>Item_MRP</th>\n",
       "      <th>Outlet_Identifier</th>\n",
       "      <th>Outlet_Establishment_Year</th>\n",
       "      <th>Outlet_Size</th>\n",
       "      <th>Outlet_Location_Type</th>\n",
       "      <th>Outlet_Type</th>\n",
       "    </tr>\n",
       "  </thead>\n",
       "  <tbody>\n",
       "    <tr>\n",
       "      <th>0</th>\n",
       "      <td>FDW58</td>\n",
       "      <td>20.750000</td>\n",
       "      <td>Low Fat</td>\n",
       "      <td>0.007565</td>\n",
       "      <td>Snack Foods</td>\n",
       "      <td>107.8622</td>\n",
       "      <td>OUT049</td>\n",
       "      <td>1999</td>\n",
       "      <td>Medium</td>\n",
       "      <td>Tier 1</td>\n",
       "      <td>Supermarket Type1</td>\n",
       "    </tr>\n",
       "    <tr>\n",
       "      <th>1</th>\n",
       "      <td>FDW14</td>\n",
       "      <td>8.300000</td>\n",
       "      <td>reg</td>\n",
       "      <td>0.038428</td>\n",
       "      <td>Dairy</td>\n",
       "      <td>87.3198</td>\n",
       "      <td>OUT017</td>\n",
       "      <td>2007</td>\n",
       "      <td>Small</td>\n",
       "      <td>Tier 2</td>\n",
       "      <td>Supermarket Type1</td>\n",
       "    </tr>\n",
       "    <tr>\n",
       "      <th>2</th>\n",
       "      <td>NCN55</td>\n",
       "      <td>14.600000</td>\n",
       "      <td>Low Fat</td>\n",
       "      <td>0.099575</td>\n",
       "      <td>Others</td>\n",
       "      <td>241.7538</td>\n",
       "      <td>OUT010</td>\n",
       "      <td>1998</td>\n",
       "      <td>Small</td>\n",
       "      <td>Tier 3</td>\n",
       "      <td>Grocery Store</td>\n",
       "    </tr>\n",
       "    <tr>\n",
       "      <th>3</th>\n",
       "      <td>FDQ58</td>\n",
       "      <td>7.315000</td>\n",
       "      <td>Low Fat</td>\n",
       "      <td>0.015388</td>\n",
       "      <td>Snack Foods</td>\n",
       "      <td>155.0340</td>\n",
       "      <td>OUT017</td>\n",
       "      <td>2007</td>\n",
       "      <td>Small</td>\n",
       "      <td>Tier 2</td>\n",
       "      <td>Supermarket Type1</td>\n",
       "    </tr>\n",
       "    <tr>\n",
       "      <th>4</th>\n",
       "      <td>FDY38</td>\n",
       "      <td>12.695633</td>\n",
       "      <td>Regular</td>\n",
       "      <td>0.118599</td>\n",
       "      <td>Dairy</td>\n",
       "      <td>234.2300</td>\n",
       "      <td>OUT027</td>\n",
       "      <td>1985</td>\n",
       "      <td>Medium</td>\n",
       "      <td>Tier 3</td>\n",
       "      <td>Supermarket Type3</td>\n",
       "    </tr>\n",
       "    <tr>\n",
       "      <th>...</th>\n",
       "      <td>...</td>\n",
       "      <td>...</td>\n",
       "      <td>...</td>\n",
       "      <td>...</td>\n",
       "      <td>...</td>\n",
       "      <td>...</td>\n",
       "      <td>...</td>\n",
       "      <td>...</td>\n",
       "      <td>...</td>\n",
       "      <td>...</td>\n",
       "      <td>...</td>\n",
       "    </tr>\n",
       "    <tr>\n",
       "      <th>5676</th>\n",
       "      <td>FDB58</td>\n",
       "      <td>10.500000</td>\n",
       "      <td>Regular</td>\n",
       "      <td>0.013496</td>\n",
       "      <td>Snack Foods</td>\n",
       "      <td>141.3154</td>\n",
       "      <td>OUT046</td>\n",
       "      <td>1997</td>\n",
       "      <td>Small</td>\n",
       "      <td>Tier 1</td>\n",
       "      <td>Supermarket Type1</td>\n",
       "    </tr>\n",
       "    <tr>\n",
       "      <th>5677</th>\n",
       "      <td>FDD47</td>\n",
       "      <td>7.600000</td>\n",
       "      <td>Regular</td>\n",
       "      <td>0.142991</td>\n",
       "      <td>Starchy Foods</td>\n",
       "      <td>169.1448</td>\n",
       "      <td>OUT018</td>\n",
       "      <td>2009</td>\n",
       "      <td>Medium</td>\n",
       "      <td>Tier 3</td>\n",
       "      <td>Supermarket Type2</td>\n",
       "    </tr>\n",
       "    <tr>\n",
       "      <th>5678</th>\n",
       "      <td>NCO17</td>\n",
       "      <td>10.000000</td>\n",
       "      <td>Low Fat</td>\n",
       "      <td>0.073529</td>\n",
       "      <td>Health and Hygiene</td>\n",
       "      <td>118.7440</td>\n",
       "      <td>OUT045</td>\n",
       "      <td>2002</td>\n",
       "      <td>Small</td>\n",
       "      <td>Tier 2</td>\n",
       "      <td>Supermarket Type1</td>\n",
       "    </tr>\n",
       "    <tr>\n",
       "      <th>5679</th>\n",
       "      <td>FDJ26</td>\n",
       "      <td>15.300000</td>\n",
       "      <td>Regular</td>\n",
       "      <td>0.000000</td>\n",
       "      <td>Canned</td>\n",
       "      <td>214.6218</td>\n",
       "      <td>OUT017</td>\n",
       "      <td>2007</td>\n",
       "      <td>Small</td>\n",
       "      <td>Tier 2</td>\n",
       "      <td>Supermarket Type1</td>\n",
       "    </tr>\n",
       "    <tr>\n",
       "      <th>5680</th>\n",
       "      <td>FDU37</td>\n",
       "      <td>9.500000</td>\n",
       "      <td>Regular</td>\n",
       "      <td>0.104720</td>\n",
       "      <td>Canned</td>\n",
       "      <td>79.7960</td>\n",
       "      <td>OUT045</td>\n",
       "      <td>2002</td>\n",
       "      <td>Small</td>\n",
       "      <td>Tier 2</td>\n",
       "      <td>Supermarket Type1</td>\n",
       "    </tr>\n",
       "  </tbody>\n",
       "</table>\n",
       "<p>5681 rows × 11 columns</p>\n",
       "</div>"
      ],
      "text/plain": [
       "     Item_Identifier  Item_Weight Item_Fat_Content  Item_Visibility  \\\n",
       "0              FDW58    20.750000          Low Fat         0.007565   \n",
       "1              FDW14     8.300000              reg         0.038428   \n",
       "2              NCN55    14.600000          Low Fat         0.099575   \n",
       "3              FDQ58     7.315000          Low Fat         0.015388   \n",
       "4              FDY38    12.695633          Regular         0.118599   \n",
       "...              ...          ...              ...              ...   \n",
       "5676           FDB58    10.500000          Regular         0.013496   \n",
       "5677           FDD47     7.600000          Regular         0.142991   \n",
       "5678           NCO17    10.000000          Low Fat         0.073529   \n",
       "5679           FDJ26    15.300000          Regular         0.000000   \n",
       "5680           FDU37     9.500000          Regular         0.104720   \n",
       "\n",
       "               Item_Type  Item_MRP Outlet_Identifier  \\\n",
       "0            Snack Foods  107.8622            OUT049   \n",
       "1                  Dairy   87.3198            OUT017   \n",
       "2                 Others  241.7538            OUT010   \n",
       "3            Snack Foods  155.0340            OUT017   \n",
       "4                  Dairy  234.2300            OUT027   \n",
       "...                  ...       ...               ...   \n",
       "5676         Snack Foods  141.3154            OUT046   \n",
       "5677       Starchy Foods  169.1448            OUT018   \n",
       "5678  Health and Hygiene  118.7440            OUT045   \n",
       "5679              Canned  214.6218            OUT017   \n",
       "5680              Canned   79.7960            OUT045   \n",
       "\n",
       "      Outlet_Establishment_Year Outlet_Size Outlet_Location_Type  \\\n",
       "0                          1999      Medium               Tier 1   \n",
       "1                          2007       Small               Tier 2   \n",
       "2                          1998       Small               Tier 3   \n",
       "3                          2007       Small               Tier 2   \n",
       "4                          1985      Medium               Tier 3   \n",
       "...                         ...         ...                  ...   \n",
       "5676                       1997       Small               Tier 1   \n",
       "5677                       2009      Medium               Tier 3   \n",
       "5678                       2002       Small               Tier 2   \n",
       "5679                       2007       Small               Tier 2   \n",
       "5680                       2002       Small               Tier 2   \n",
       "\n",
       "            Outlet_Type  \n",
       "0     Supermarket Type1  \n",
       "1     Supermarket Type1  \n",
       "2         Grocery Store  \n",
       "3     Supermarket Type1  \n",
       "4     Supermarket Type3  \n",
       "...                 ...  \n",
       "5676  Supermarket Type1  \n",
       "5677  Supermarket Type2  \n",
       "5678  Supermarket Type1  \n",
       "5679  Supermarket Type1  \n",
       "5680  Supermarket Type1  \n",
       "\n",
       "[5681 rows x 11 columns]"
      ]
     },
     "execution_count": 16,
     "metadata": {},
     "output_type": "execute_result"
    }
   ],
   "source": [
    "data"
   ]
  },
  {
   "cell_type": "code",
   "execution_count": 17,
   "id": "bdebc28b-41dc-474e-9234-d97a9dee846f",
   "metadata": {},
   "outputs": [
    {
     "name": "stderr",
     "output_type": "stream",
     "text": [
      "C:\\Python311\\Lib\\site-packages\\seaborn\\axisgrid.py:123: UserWarning: The figure layout has changed to tight\n",
      "  self._figure.tight_layout(*args, **kwargs)\n"
     ]
    },
    {
     "data": {
      "image/png": "[encoded data removed]",
      "text/plain": [
       "<Figure size 500x500 with 1 Axes>"
      ]
     },
     "metadata": {},
     "output_type": "display_data"
    }
   ],
   "source": [
    "sns.displot(data['Item_Weight'])\n",
    "plt.show()"
   ]
  },
  {
   "cell_type": "code",
   "execution_count": 18,
   "id": "10549452-d3c7-4316-8c83-404609f29c60",
   "metadata": {},
   "outputs": [
    {
     "name": "stderr",
     "output_type": "stream",
     "text": [
      "C:\\Python311\\Lib\\site-packages\\seaborn\\axisgrid.py:123: UserWarning: The figure layout has changed to tight\n",
      "  self._figure.tight_layout(*args, **kwargs)\n"
     ]
    },
    {
     "data": {
      "image/png": "[encoded data removed]",
      "text/plain": [
       "<Figure size 500x500 with 1 Axes>"
      ]
     },
     "metadata": {},
     "output_type": "display_data"
    }
   ],
   "source": [
    "sns.displot(data['Item_Visibility'])\n",
    "plt.show()"
   ]
  },
  {
   "cell_type": "code",
   "execution_count": 19,
   "id": "500944cc-4961-4ebf-8b08-34aa0a7a0bb0",
   "metadata": {},
   "outputs": [
    {
     "name": "stderr",
     "output_type": "stream",
     "text": [
      "C:\\Python311\\Lib\\site-packages\\seaborn\\axisgrid.py:123: UserWarning: The figure layout has changed to tight\n",
      "  self._figure.tight_layout(*args, **kwargs)\n"
     ]
    },
    {
     "data": {
      "image/png": "[encoded data removed]",
      "text/plain": [
       "<Figure size 500x500 with 1 Axes>"
      ]
     },
     "metadata": {},
     "output_type": "display_data"
    }
   ],
   "source": [
    "sns.displot(data['Item_MRP'])\n",
    "plt.show()"
   ]
  },
  {
   "cell_type": "code",
   "execution_count": 20,
   "id": "0396d80a-b79a-4c36-937d-276effccf737",
   "metadata": {},
   "outputs": [
    {
     "data": {
      "image/png": "[encoded data removed]",
      "text/plain": [
       "<Figure size 640x480 with 1 Axes>"
      ]
     },
     "metadata": {},
     "output_type": "display_data"
    }
   ],
   "source": [
    "sns.countplot(x=data['Outlet_Establishment_Year'],data=data)\n",
    "plt.show()"
   ]
  },
  {
   "cell_type": "code",
   "execution_count": 21,
   "id": "ceb66f78-ef22-48dd-8677-0ca78f2c4396",
   "metadata": {},
   "outputs": [
    {
     "data": {
      "text/plain": [
       "array(['Low Fat', 'reg', 'Regular', 'LF', 'low fat'], dtype=object)"
      ]
     },
     "execution_count": 21,
     "metadata": {},
     "output_type": "execute_result"
    }
   ],
   "source": [
    "data['Item_Fat_Content'].unique()"
   ]
  },
  {
   "cell_type": "code",
   "execution_count": 22,
   "id": "294d824e-473d-439d-b2b9-3eec057f3b92",
   "metadata": {},
   "outputs": [],
   "source": [
    "data.replace({'Item_Fat_Content':{'low fat':'Low Fat','LF':'Low Fat','reg':'Regular'}}, inplace=True)"
   ]
  },
  {
   "cell_type": "code",
   "execution_count": 23,
   "id": "c36ff1c6-aad4-4ac7-99d8-3cf69c2795a3",
   "metadata": {
    "scrolled": true
   },
   "outputs": [],
   "source": [
    "encode=LabelEncoder()"
   ]
  },
  {
   "cell_type": "code",
   "execution_count": 24,
   "id": "ae02b742-7e39-47d4-9e66-35d210753889",
   "metadata": {},
   "outputs": [],
   "source": [
    "data['Item_Identifier']=encode.fit_transform(data['Item_Identifier'])\n",
    "data['Item_Fat_Content']=encode.fit_transform(data['Item_Fat_Content'])\n",
    "data['Item_Type']=encode.fit_transform(data['Item_Type'])\n",
    "data['Outlet_Identifier']=encode.fit_transform(data['Outlet_Identifier'])\n",
    "data['Outlet_Size']=encode.fit_transform(data['Outlet_Size'])\n",
    "data['Outlet_Location_Type']=encode.fit_transform(data['Outlet_Location_Type'])\n",
    "data['Outlet_Type']=encode.fit_transform(data['Outlet_Type'])"
   ]
  },
  {
   "cell_type": "code",
   "execution_count": 25,
   "id": "8f4bcad5-c33d-4bb0-b659-bc91c37d6653",
   "metadata": {
    "scrolled": true
   },
   "outputs": [
    {
     "data": {
      "text/html": [
       "<div>\n",
       "<style scoped>\n",
       "    .dataframe tbody tr th:only-of-type {\n",
       "        vertical-align: middle;\n",
       "    }\n",
       "\n",
       "    .dataframe tbody tr th {\n",
       "        vertical-align: top;\n",
       "    }\n",
       "\n",
       "    .dataframe thead th {\n",
       "        text-align: right;\n",
       "    }\n",
       "</style>\n",
       "<table border=\"1\" class=\"dataframe\">\n",
       "  <thead>\n",
       "    <tr style=\"text-align: right;\">\n",
       "      <th></th>\n",
       "      <th>Item_Identifier</th>\n",
       "      <th>Item_Weight</th>\n",
       "      <th>Item_Fat_Content</th>\n",
       "      <th>Item_Visibility</th>\n",
       "      <th>Item_Type</th>\n",
       "      <th>Item_MRP</th>\n",
       "      <th>Outlet_Identifier</th>\n",
       "      <th>Outlet_Establishment_Year</th>\n",
       "      <th>Outlet_Size</th>\n",
       "      <th>Outlet_Location_Type</th>\n",
       "      <th>Outlet_Type</th>\n",
       "    </tr>\n",
       "  </thead>\n",
       "  <tbody>\n",
       "    <tr>\n",
       "      <th>0</th>\n",
       "      <td>1103</td>\n",
       "      <td>20.750000</td>\n",
       "      <td>0</td>\n",
       "      <td>0.007565</td>\n",
       "      <td>13</td>\n",
       "      <td>107.8622</td>\n",
       "      <td>9</td>\n",
       "      <td>1999</td>\n",
       "      <td>1</td>\n",
       "      <td>0</td>\n",
       "      <td>1</td>\n",
       "    </tr>\n",
       "    <tr>\n",
       "      <th>1</th>\n",
       "      <td>1067</td>\n",
       "      <td>8.300000</td>\n",
       "      <td>1</td>\n",
       "      <td>0.038428</td>\n",
       "      <td>4</td>\n",
       "      <td>87.3198</td>\n",
       "      <td>2</td>\n",
       "      <td>2007</td>\n",
       "      <td>2</td>\n",
       "      <td>1</td>\n",
       "      <td>1</td>\n",
       "    </tr>\n",
       "    <tr>\n",
       "      <th>2</th>\n",
       "      <td>1406</td>\n",
       "      <td>14.600000</td>\n",
       "      <td>0</td>\n",
       "      <td>0.099575</td>\n",
       "      <td>11</td>\n",
       "      <td>241.7538</td>\n",
       "      <td>0</td>\n",
       "      <td>1998</td>\n",
       "      <td>2</td>\n",
       "      <td>2</td>\n",
       "      <td>0</td>\n",
       "    </tr>\n",
       "    <tr>\n",
       "      <th>3</th>\n",
       "      <td>809</td>\n",
       "      <td>7.315000</td>\n",
       "      <td>0</td>\n",
       "      <td>0.015388</td>\n",
       "      <td>13</td>\n",
       "      <td>155.0340</td>\n",
       "      <td>2</td>\n",
       "      <td>2007</td>\n",
       "      <td>2</td>\n",
       "      <td>1</td>\n",
       "      <td>1</td>\n",
       "    </tr>\n",
       "    <tr>\n",
       "      <th>4</th>\n",
       "      <td>1184</td>\n",
       "      <td>12.695633</td>\n",
       "      <td>1</td>\n",
       "      <td>0.118599</td>\n",
       "      <td>4</td>\n",
       "      <td>234.2300</td>\n",
       "      <td>5</td>\n",
       "      <td>1985</td>\n",
       "      <td>1</td>\n",
       "      <td>2</td>\n",
       "      <td>3</td>\n",
       "    </tr>\n",
       "    <tr>\n",
       "      <th>...</th>\n",
       "      <td>...</td>\n",
       "      <td>...</td>\n",
       "      <td>...</td>\n",
       "      <td>...</td>\n",
       "      <td>...</td>\n",
       "      <td>...</td>\n",
       "      <td>...</td>\n",
       "      <td>...</td>\n",
       "      <td>...</td>\n",
       "      <td>...</td>\n",
       "      <td>...</td>\n",
       "    </tr>\n",
       "    <tr>\n",
       "      <th>5676</th>\n",
       "      <td>231</td>\n",
       "      <td>10.500000</td>\n",
       "      <td>1</td>\n",
       "      <td>0.013496</td>\n",
       "      <td>13</td>\n",
       "      <td>141.3154</td>\n",
       "      <td>8</td>\n",
       "      <td>1997</td>\n",
       "      <td>2</td>\n",
       "      <td>0</td>\n",
       "      <td>1</td>\n",
       "    </tr>\n",
       "    <tr>\n",
       "      <th>5677</th>\n",
       "      <td>306</td>\n",
       "      <td>7.600000</td>\n",
       "      <td>1</td>\n",
       "      <td>0.142991</td>\n",
       "      <td>15</td>\n",
       "      <td>169.1448</td>\n",
       "      <td>3</td>\n",
       "      <td>2009</td>\n",
       "      <td>1</td>\n",
       "      <td>2</td>\n",
       "      <td>2</td>\n",
       "    </tr>\n",
       "    <tr>\n",
       "      <th>5678</th>\n",
       "      <td>1412</td>\n",
       "      <td>10.000000</td>\n",
       "      <td>0</td>\n",
       "      <td>0.073529</td>\n",
       "      <td>8</td>\n",
       "      <td>118.7440</td>\n",
       "      <td>7</td>\n",
       "      <td>2002</td>\n",
       "      <td>2</td>\n",
       "      <td>1</td>\n",
       "      <td>1</td>\n",
       "    </tr>\n",
       "    <tr>\n",
       "      <th>5679</th>\n",
       "      <td>517</td>\n",
       "      <td>15.300000</td>\n",
       "      <td>1</td>\n",
       "      <td>0.000000</td>\n",
       "      <td>3</td>\n",
       "      <td>214.6218</td>\n",
       "      <td>2</td>\n",
       "      <td>2007</td>\n",
       "      <td>2</td>\n",
       "      <td>1</td>\n",
       "      <td>1</td>\n",
       "    </tr>\n",
       "    <tr>\n",
       "      <th>5680</th>\n",
       "      <td>987</td>\n",
       "      <td>9.500000</td>\n",
       "      <td>1</td>\n",
       "      <td>0.104720</td>\n",
       "      <td>3</td>\n",
       "      <td>79.7960</td>\n",
       "      <td>7</td>\n",
       "      <td>2002</td>\n",
       "      <td>2</td>\n",
       "      <td>1</td>\n",
       "      <td>1</td>\n",
       "    </tr>\n",
       "  </tbody>\n",
       "</table>\n",
       "<p>5681 rows × 11 columns</p>\n",
       "</div>"
      ],
      "text/plain": [
       "      Item_Identifier  Item_Weight  Item_Fat_Content  Item_Visibility  \\\n",
       "0                1103    20.750000                 0         0.007565   \n",
       "1                1067     8.300000                 1         0.038428   \n",
       "2                1406    14.600000                 0         0.099575   \n",
       "3                 809     7.315000                 0         0.015388   \n",
       "4                1184    12.695633                 1         0.118599   \n",
       "...               ...          ...               ...              ...   \n",
       "5676              231    10.500000                 1         0.013496   \n",
       "5677              306     7.600000                 1         0.142991   \n",
       "5678             1412    10.000000                 0         0.073529   \n",
       "5679              517    15.300000                 1         0.000000   \n",
       "5680              987     9.500000                 1         0.104720   \n",
       "\n",
       "      Item_Type  Item_MRP  Outlet_Identifier  Outlet_Establishment_Year  \\\n",
       "0            13  107.8622                  9                       1999   \n",
       "1             4   87.3198                  2                       2007   \n",
       "2            11  241.7538                  0                       1998   \n",
       "3            13  155.0340                  2                       2007   \n",
       "4             4  234.2300                  5                       1985   \n",
       "...         ...       ...                ...                        ...   \n",
       "5676         13  141.3154                  8                       1997   \n",
       "5677         15  169.1448                  3                       2009   \n",
       "5678          8  118.7440                  7                       2002   \n",
       "5679          3  214.6218                  2                       2007   \n",
       "5680          3   79.7960                  7                       2002   \n",
       "\n",
       "      Outlet_Size  Outlet_Location_Type  Outlet_Type  \n",
       "0               1                     0            1  \n",
       "1               2                     1            1  \n",
       "2               2                     2            0  \n",
       "3               2                     1            1  \n",
       "4               1                     2            3  \n",
       "...           ...                   ...          ...  \n",
       "5676            2                     0            1  \n",
       "5677            1                     2            2  \n",
       "5678            2                     1            1  \n",
       "5679            2                     1            1  \n",
       "5680            2                     1            1  \n",
       "\n",
       "[5681 rows x 11 columns]"
      ]
     },
     "execution_count": 25,
     "metadata": {},
     "output_type": "execute_result"
    }
   ],
   "source": [
    "data"
   ]
  },
  {
   "cell_type": "code",
   "execution_count": 26,
   "id": "a604b85e-c3e3-4ff4-a523-7899a609677c",
   "metadata": {},
   "outputs": [],
   "source": [
    "X=data.drop(columns='Outlet_Type',axis=1)\n",
    "y=data['Outlet_Type']"
   ]
  },
  {
   "cell_type": "code",
   "execution_count": 27,
   "id": "2cf271af-b4bb-4d35-b599-31c5b8874ff7",
   "metadata": {},
   "outputs": [
    {
     "name": "stdout",
     "output_type": "stream",
     "text": [
      "      Item_Identifier  Item_Weight  Item_Fat_Content  Item_Visibility  \\\n",
      "0                1103    20.750000                 0         0.007565   \n",
      "1                1067     8.300000                 1         0.038428   \n",
      "2                1406    14.600000                 0         0.099575   \n",
      "3                 809     7.315000                 0         0.015388   \n",
      "4                1184    12.695633                 1         0.118599   \n",
      "...               ...          ...               ...              ...   \n",
      "5676              231    10.500000                 1         0.013496   \n",
      "5677              306     7.600000                 1         0.142991   \n",
      "5678             1412    10.000000                 0         0.073529   \n",
      "5679              517    15.300000                 1         0.000000   \n",
      "5680              987     9.500000                 1         0.104720   \n",
      "\n",
      "      Item_Type  Item_MRP  Outlet_Identifier  Outlet_Establishment_Year  \\\n",
      "0            13  107.8622                  9                       1999   \n",
      "1             4   87.3198                  2                       2007   \n",
      "2            11  241.7538                  0                       1998   \n",
      "3            13  155.0340                  2                       2007   \n",
      "4             4  234.2300                  5                       1985   \n",
      "...         ...       ...                ...                        ...   \n",
      "5676         13  141.3154                  8                       1997   \n",
      "5677         15  169.1448                  3                       2009   \n",
      "5678          8  118.7440                  7                       2002   \n",
      "5679          3  214.6218                  2                       2007   \n",
      "5680          3   79.7960                  7                       2002   \n",
      "\n",
      "      Outlet_Size  Outlet_Location_Type  \n",
      "0               1                     0  \n",
      "1               2                     1  \n",
      "2               2                     2  \n",
      "3               2                     1  \n",
      "4               1                     2  \n",
      "...           ...                   ...  \n",
      "5676            2                     0  \n",
      "5677            1                     2  \n",
      "5678            2                     1  \n",
      "5679            2                     1  \n",
      "5680            2                     1  \n",
      "\n",
      "[5681 rows x 10 columns]\n"
     ]
    }
   ],
   "source": [
    "print(X)"
   ]
  },
  {
   "cell_type": "code",
   "execution_count": 28,
   "id": "21450fea-4464-44e3-a9c3-7632371e50d1",
   "metadata": {},
   "outputs": [
    {
     "data": {
      "text/plain": [
       "0       1\n",
       "1       1\n",
       "2       0\n",
       "3       1\n",
       "4       3\n",
       "       ..\n",
       "5676    1\n",
       "5677    2\n",
       "5678    1\n",
       "5679    1\n",
       "5680    1\n",
       "Name: Outlet_Type, Length: 5681, dtype: int32"
      ]
     },
     "execution_count": 28,
     "metadata": {},
     "output_type": "execute_result"
    }
   ],
   "source": [
    "y"
   ]
  },
  {
   "cell_type": "code",
   "execution_count": 29,
   "id": "cc5f3c17-bdac-4868-ab55-4cf267ec0d79",
   "metadata": {},
   "outputs": [],
   "source": [
    "from sklearn.model_selection import train_test_split"
   ]
  },
  {
   "cell_type": "code",
   "execution_count": 30,
   "id": "7e92c861-44f7-4f9a-ac83-61105a1f8ab1",
   "metadata": {},
   "outputs": [],
   "source": [
    "Xtrain,Xtest,ytrain,ytest=train_test_split(X,y,test_size=0.2,random_state=2)"
   ]
  },
  {
   "cell_type": "code",
   "execution_count": 31,
   "id": "66c72b7e-ae13-4d2a-bb01-b72443e322bf",
   "metadata": {},
   "outputs": [
    {
     "name": "stdout",
     "output_type": "stream",
     "text": [
      "(5681, 10) (4544, 10) (1137, 10)\n"
     ]
    }
   ],
   "source": [
    "print(X.shape,Xtrain.shape,Xtest.shape)"
   ]
  },
  {
   "cell_type": "code",
   "execution_count": 32,
   "id": "8e13ebc1-f149-44c3-81b1-bcfc9ce6822e",
   "metadata": {},
   "outputs": [
    {
     "name": "stdout",
     "output_type": "stream",
     "text": [
      "(5681,) (4544,) (1137,)\n"
     ]
    }
   ],
   "source": [
    "print(y.shape,ytrain.shape,ytest.shape)"
   ]
  },
  {
   "cell_type": "code",
   "execution_count": 33,
   "id": "ce5e9817-0319-41ee-804c-b7c5cf9ca2f8",
   "metadata": {},
   "outputs": [],
   "source": [
    "model=XGBRegressor()"
   ]
  },
  {
   "cell_type": "code",
   "execution_count": 34,
   "id": "aa8c2ada-50ea-42af-8289-ec8c01d3af6a",
   "metadata": {
    "scrolled": true
   },
   "outputs": [
    {
     "data": {
      "text/html": [
       "<style>#sk-container-id-1 {color: black;}#sk-container-id-1 pre{padding: 0;}#sk-container-id-1 div.sk-toggleable {background-color: white;}#sk-container-id-1 label.sk-toggleable__label {cursor: pointer;display: block;width: 100%;margin-bottom: 0;padding: 0.3em;box-sizing: border-box;text-align: center;}#sk-container-id-1 label.sk-toggleable__label-arrow:before {content: \"▸\";float: left;margin-right: 0.25em;color: #696969;}#sk-container-id-1 label.sk-toggleable__label-arrow:hover:before {color: black;}#sk-container-id-1 div.sk-estimator:hover label.sk-toggleable__label-arrow:before {color: black;}#sk-container-id-1 div.sk-toggleable__content {max-height: 0;max-width: 0;overflow: hidden;text-align: left;background-color: #f0f8ff;}#sk-container-id-1 div.sk-toggleable__content pre {margin: 0.2em;color: black;border-radius: 0.25em;background-color: #f0f8ff;}#sk-container-id-1 input.sk-toggleable__control:checked~div.sk-toggleable__content {max-height: 200px;max-width: 100%;overflow: auto;}#sk-container-id-1 input.sk-toggleable__control:checked~label.sk-toggleable__label-arrow:before {content: \"▾\";}#sk-container-id-1 div.sk-estimator input.sk-toggleable__control:checked~label.sk-toggleable__label {background-color: #d4ebff;}#sk-container-id-1 div.sk-label input.sk-toggleable__control:checked~label.sk-toggleable__label {background-color: #d4ebff;}#sk-container-id-1 input.sk-hidden--visually {border: 0;clip: rect(1px 1px 1px 1px);clip: rect(1px, 1px, 1px, 1px);height: 1px;margin: -1px;overflow: hidden;padding: 0;position: absolute;width: 1px;}#sk-container-id-1 div.sk-estimator {font-family: monospace;background-color: #f0f8ff;border: 1px dotted black;border-radius: 0.25em;box-sizing: border-box;margin-bottom: 0.5em;}#sk-container-id-1 div.sk-estimator:hover {background-color: #d4ebff;}#sk-container-id-1 div.sk-parallel-item::after {content: \"\";width: 100%;border-bottom: 1px solid gray;flex-grow: 1;}#sk-container-id-1 div.sk-label:hover label.sk-toggleable__label {background-color: #d4ebff;}#sk-container-id-1 div.sk-serial::before {content: \"\";position: absolute;border-left: 1px solid gray;box-sizing: border-box;top: 0;bottom: 0;left: 50%;z-index: 0;}#sk-container-id-1 div.sk-serial {display: flex;flex-direction: column;align-items: center;background-color: white;padding-right: 0.2em;padding-left: 0.2em;position: relative;}#sk-container-id-1 div.sk-item {position: relative;z-index: 1;}#sk-container-id-1 div.sk-parallel {display: flex;align-items: stretch;justify-content: center;background-color: white;position: relative;}#sk-container-id-1 div.sk-item::before, #sk-container-id-1 div.sk-parallel-item::before {content: \"\";position: absolute;border-left: 1px solid gray;box-sizing: border-box;top: 0;bottom: 0;left: 50%;z-index: -1;}#sk-container-id-1 div.sk-parallel-item {display: flex;flex-direction: column;z-index: 1;position: relative;background-color: white;}#sk-container-id-1 div.sk-parallel-item:first-child::after {align-self: flex-end;width: 50%;}#sk-container-id-1 div.sk-parallel-item:last-child::after {align-self: flex-start;width: 50%;}#sk-container-id-1 div.sk-parallel-item:only-child::after {width: 0;}#sk-container-id-1 div.sk-dashed-wrapped {border: 1px dashed gray;margin: 0 0.4em 0.5em 0.4em;box-sizing: border-box;padding-bottom: 0.4em;background-color: white;}#sk-container-id-1 div.sk-label label {font-family: monospace;font-weight: bold;display: inline-block;line-height: 1.2em;}#sk-container-id-1 div.sk-label-container {text-align: center;}#sk-container-id-1 div.sk-container {/* jupyter's `normalize.less` sets `[hidden] { display: none; }` but bootstrap.min.css set `[hidden] { display: none !important; }` so we also need the `!important` here to be able to override the default hidden behavior on the sphinx rendered scikit-learn.org. See: https://github.com/scikit-learn/scikit-learn/issues/21755 */display: inline-block !important;position: relative;}#sk-container-id-1 div.sk-text-repr-fallback {display: none;}</style><div id=\"sk-container-id-1\" class=\"sk-top-container\"><div class=\"sk-text-repr-fallback\"><pre>XGBRegressor(base_score=None, booster=None, callbacks=None,\n",
       "             colsample_bylevel=None, colsample_bynode=None,\n",
       "             colsample_bytree=None, device=None, early_stopping_rounds=None,\n",
       "             enable_categorical=False, eval_metric=None, feature_types=None,\n",
       "             gamma=None, grow_policy=None, importance_type=None,\n",
       "             interaction_constraints=None, learning_rate=None, max_bin=None,\n",
       "             max_cat_threshold=None, max_cat_to_onehot=None,\n",
       "             max_delta_step=None, max_depth=None, max_leaves=None,\n",
       "             min_child_weight=None, missing=nan, monotone_constraints=None,\n",
       "             multi_strategy=None, n_estimators=None, n_jobs=None,\n",
       "             num_parallel_tree=None, random_state=None, ...)</pre><b>In a Jupyter environment, please rerun this cell to show the HTML representation or trust the notebook. <br />On GitHub, the HTML representation is unable to render, please try loading this page with nbviewer.org.</b></div><div class=\"sk-container\" hidden><div class=\"sk-item\"><div class=\"sk-estimator sk-toggleable\"><input class=\"sk-toggleable__control sk-hidden--visually\" id=\"sk-estimator-id-1\" type=\"checkbox\" checked><label for=\"sk-estimator-id-1\" class=\"sk-toggleable__label sk-toggleable__label-arrow\">XGBRegressor</label><div class=\"sk-toggleable__content\"><pre>XGBRegressor(base_score=None, booster=None, callbacks=None,\n",
       "             colsample_bylevel=None, colsample_bynode=None,\n",
       "             colsample_bytree=None, device=None, early_stopping_rounds=None,\n",
       "             enable_categorical=False, eval_metric=None, feature_types=None,\n",
       "             gamma=None, grow_policy=None, importance_type=None,\n",
       "             interaction_constraints=None, learning_rate=None, max_bin=None,\n",
       "             max_cat_threshold=None, max_cat_to_onehot=None,\n",
       "             max_delta_step=None, max_depth=None, max_leaves=None,\n",
       "             min_child_weight=None, missing=nan, monotone_constraints=None,\n",
       "             multi_strategy=None, n_estimators=None, n_jobs=None,\n",
       "             num_parallel_tree=None, random_state=None, ...)</pre></div></div></div></div></div>"
      ],
      "text/plain": [
       "XGBRegressor(base_score=None, booster=None, callbacks=None,\n",
       "             colsample_bylevel=None, colsample_bynode=None,\n",
       "             colsample_bytree=None, device=None, early_stopping_rounds=None,\n",
       "             enable_categorical=False, eval_metric=None, feature_types=None,\n",
       "             gamma=None, grow_policy=None, importance_type=None,\n",
       "             interaction_constraints=None, learning_rate=None, max_bin=None,\n",
       "             max_cat_threshold=None, max_cat_to_onehot=None,\n",
       "             max_delta_step=None, max_depth=None, max_leaves=None,\n",
       "             min_child_weight=None, missing=nan, monotone_constraints=None,\n",
       "             multi_strategy=None, n_estimators=None, n_jobs=None,\n",
       "             num_parallel_tree=None, random_state=None, ...)"
      ]
     },
     "execution_count": 34,
     "metadata": {},
     "output_type": "execute_result"
    }
   ],
   "source": [
    "model.fit(Xtrain,ytrain)"
   ]
  },
  {
   "cell_type": "code",
   "execution_count": 35,
   "id": "8a8364ef-77ac-4428-8a17-658b276f0728",
   "metadata": {},
   "outputs": [],
   "source": [
    "pred=model.predict(Xtest)"
   ]
  },
  {
   "cell_type": "code",
   "execution_count": 36,
   "id": "26a1e2b0-97d7-4d89-beda-c3748559c44d",
   "metadata": {},
   "outputs": [
    {
     "data": {
      "text/plain": [
       "array([4.7155383e-05, 9.9999815e-01, 9.9999815e-01, ..., 1.0000111e+00,\n",
       "       9.9999815e-01, 1.0000111e+00], dtype=float32)"
      ]
     },
     "execution_count": 36,
     "metadata": {},
     "output_type": "execute_result"
    }
   ],
   "source": [
    "pred"
   ]
  },
  {
   "cell_type": "code",
   "execution_count": 37,
   "id": "2bc5361b-1234-4c75-a30c-ad9ddb4c91e7",
   "metadata": {},
   "outputs": [],
   "source": [
    "r2=metrics.r2_score(ytest,pred)"
   ]
  },
  {
   "cell_type": "code",
   "execution_count": 38,
   "id": "a96e528c-fb84-46bd-a519-12382ff83613",
   "metadata": {},
   "outputs": [
    {
     "data": {
      "text/plain": [
       "0.9999999990905291"
      ]
     },
     "execution_count": 38,
     "metadata": {},
     "output_type": "execute_result"
    }
   ],
   "source": [
    "r2"
   ]
  },
  {
   "cell_type": "code",
   "execution_count": 39,
   "id": "37154f20-8e6c-4db4-b8b4-d80e9a1a55b8",
   "metadata": {},
   "outputs": [
    {
     "name": "stderr",
     "output_type": "stream",
     "text": [
      "C:\\Python311\\Lib\\site-packages\\seaborn\\axisgrid.py:123: UserWarning: The figure layout has changed to tight\n",
      "  self._figure.tight_layout(*args, **kwargs)\n"
     ]
    },
    {
     "data": {
      "image/png": "[encoded data removed]",
      "text/plain": [
       "<Figure size 500x500 with 1 Axes>"
      ]
     },
     "metadata": {},
     "output_type": "display_data"
    }
   ],
   "source": [
    "sns.displot(data=ytest)\n",
    "plt.show()"
   ]
  },
  {
   "cell_type": "code",
   "execution_count": 40,
   "id": "8d5547fc-b7c3-4666-a29e-771ec77dd619",
   "metadata": {},
   "outputs": [
    {
     "data": {
      "text/plain": [
       "3746    0\n",
       "4342    1\n",
       "3682    1\n",
       "3944    2\n",
       "1660    1\n",
       "       ..\n",
       "4239    2\n",
       "5346    0\n",
       "739     1\n",
       "3475    1\n",
       "4068    1\n",
       "Name: Outlet_Type, Length: 1137, dtype: int32"
      ]
     },
     "execution_count": 40,
     "metadata": {},
     "output_type": "execute_result"
    }
   ],
   "source": [
    "ytest"
   ]
  },
  {
   "cell_type": "code",
   "execution_count": 41,
   "id": "a11d9eca-91b5-456c-82cd-bc34fada0621",
   "metadata": {},
   "outputs": [
    {
     "data": {
      "text/plain": [
       "array([4.7155383e-05, 9.9999815e-01, 9.9999815e-01, ..., 1.0000111e+00,\n",
       "       9.9999815e-01, 1.0000111e+00], dtype=float32)"
      ]
     },
     "execution_count": 41,
     "metadata": {},
     "output_type": "execute_result"
    }
   ],
   "source": [
    "pred"
   ]
  },
  {
   "cell_type": "code",
   "execution_count": null,
   "id": "20fb15ec-532d-4bc1-b733-316527432775",
   "metadata": {},
   "outputs": [],
   "source": []
  }
 ],
 "metadata": {
  "kernelspec": {
   "display_name": "Python 3 (ipykernel)",
   "language": "python",
   "name": "python3"
  },
  "language_info": {
   "codemirror_mode": {
    "name": "ipython",
    "version": 3
   },
   "file_extension": ".py",
   "mimetype": "text/x-python",
   "name": "python",
   "nbconvert_exporter": "python",
   "pygments_lexer": "ipython3",
   "version": "3.11.4"
  }
 },
 "nbformat": 4,
 "nbformat_minor": 5
}
